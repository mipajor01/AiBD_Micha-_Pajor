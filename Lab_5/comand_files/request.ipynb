{
 "cells": [
  {
   "cell_type": "markdown",
   "source": [
    "Zad.1"
   ],
   "metadata": {
    "collapsed": false,
    "pycharm": {
     "name": "#%% md\n"
    }
   }
  },
  {
   "cell_type": "markdown",
   "source": [
    "Wczytanie pandy jako pd oraz wczytanie weather.txt"
   ],
   "metadata": {
    "collapsed": false,
    "pycharm": {
     "name": "#%% md\n"
    }
   }
  },
  {
   "cell_type": "code",
   "execution_count": 103,
   "metadata": {
    "collapsed": true,
    "pycharm": {
     "name": "#%%\n"
    }
   },
   "outputs": [],
   "source": [
    "import pandas as pd\n",
    "\n",
    "with open(\"C:\\studia\\sem_5\\AiBD\\lab_5\\Lab2\\original_data\\weather.txt\") as data:\n",
    "    file = data.readlines()"
   ]
  },
  {
   "cell_type": "markdown",
   "source": [
    "Filtracja pliku danych wejściowych po dacie badań. W tym przypadku jest to 5 ostatnich miesięcy roku 2010."
   ],
   "metadata": {
    "collapsed": false,
    "pycharm": {
     "name": "#%% md\n"
    }
   }
  },
  {
   "cell_type": "code",
   "execution_count": 104,
   "outputs": [],
   "source": [
    "l_5_m = []\n",
    "for i in file:\n",
    "    if \"2010\" in i[11:15]:\n",
    "        if \"08\" in i[15:17] or \"09\" in i[15:17] or \"10\" in i[15:17] or \"11\" in i[15:17] or \"12\" in i[15:17]:\n",
    "            l_5_m.append(i)"
   ],
   "metadata": {
    "collapsed": false,
    "pycharm": {
     "name": "#%%\n"
    }
   }
  },
  {
   "cell_type": "markdown",
   "source": [
    "Utworzenie kolumn i wierszy. Z powodu błędów w pliku txt trzeba było uwzględnić 3 przypadki dopisywania wartości do poszczególnych kolumn, wynikało to z różnych odległości między elementami. Niepoprawne wartości oznaczone zostały jako 'None'."
   ],
   "metadata": {
    "collapsed": false,
    "pycharm": {
     "name": "#%% md\n"
    }
   }
  },
  {
   "cell_type": "code",
   "execution_count": 105,
   "outputs": [
    {
     "name": "stdout",
     "output_type": "stream",
     "text": [
      "[['MX000017004', '2010', '08', 'TMAX', 'None', 'None', 'None', 'None', '296', 'None', 'None', '290', 'None', 'None', 'None', 'None', '298', 'None', 'None', 'None', 'None', 'None', 'None', 'None', 'None', 'None', '264', 'None', '297', 'None', 'None', 'None', '280', 'None', '254'], ['MX000017004', '2010', '08', 'TMIN', 'None', 'None', 'None', 'None', '158', 'None', 'None', '173', 'None', 'None', 'None', 'None', '165', 'None', 'None', 'None', 'None', 'None', 'None', 'None', 'None', 'None', '150', 'None', '156', 'None', 'None', 'None', '153', 'None', '154'], ['MX000017004', '2010', '08', 'PRCP', 'None', 'None', 'None', 'None', '38', '5', 'None', '239', '0', '180', 'None', '168', '168', '185', '0', 'None', '132', '193', 'None', '117', '51', '145', '0', '0', '0', '432', 'None', '64', '188', '0', '0'], ['MX000017004', '2010', '09', 'PRCP', '185', '56', '13', '175', '0', '277', '0', '345', '391', '353', '23', '0', 'None', '119', '0', 'None', '48', '10', '0', '361', '0', '0', '15', '147', '18', '0', '0', '0', '0', '0', 'None'], ['MX000017004', '2010', '10', 'TMAX', 'None', 'None', 'None', 'None', '270', 'None', '281', 'None', 'None', 'None', 'None', 'None', 'None', '295', '287', 'None', 'None', 'None', 'None', 'None', 'None', 'None', 'None', 'None', 'None', 'None', 'None', '312', 'None', 'None', 'None'], ['MX000017004', '2010', '10', 'TMIN', 'None', 'None', 'None', 'None', '140', 'None', '129', 'None', 'None', 'None', 'None', 'None', 'None', '130', '105', 'None', 'None', 'None', 'None', 'None', 'None', 'None', 'None', 'None', 'None', 'None', 'None', '150', 'None', 'None', 'None'], ['MX000017004', '2010', '10', 'PRCP', '0', '0', 'None', '0', '0', '0', '0', '0', '0', '0', '0', '0', '0', '0', '0', '0', '0', '0', '0', '0', '0', '0', '0', 'None', 'None', '0', '0', '0', '0', '0', '0'], ['MX000017004', '2010', '11', 'TMAX', 'None', '313', 'None', '272', '263', 'None', 'None', 'None', 'None', 'None', 'None', 'None', 'None', 'None', 'None', 'None', 'None', 'None', 'None', 'None', 'None', 'None', 'None', 'None', 'None', '281', '277', 'None', 'None', 'None', 'None'], ['MX000017004', '2010', '11', 'TMIN', 'None', '163', 'None', '120', '79', 'None', 'None', 'None', 'None', 'None', 'None', 'None', 'None', 'None', 'None', 'None', 'None', 'None', 'None', 'None', 'None', 'None', 'None', 'None', 'None', '121', '142', 'None', 'None', 'None', 'None'], ['MX000017004', '2010', '11', 'PRCP', '0', '0', 'None', '0', '0', '0', 'None', '0', '0', '0', '0', '0', '0', 'None', 'None', '0', '0', '0', '0', 'None', 'None', '0', '0', '0', '0', '0', '0', 'None', 'None', '0', 'None'], ['MX000017004', '2010', '12', 'TMAX', '299', 'None', 'None', 'None', 'None', '278', 'None', 'None', 'None', 'None', 'None', 'None', 'None', 'None', 'None', 'None', 'None', 'None', 'None', 'None', 'None', 'None', 'None', 'None', 'None', 'None', 'None', 'None', 'None', 'None', 'None'], ['MX000017004', '2010', '12', 'TMIN', '138', 'None', 'None', 'None', 'None', '105', 'None', 'None', 'None', 'None', 'None', 'None', 'None', 'None', 'None', 'None', 'None', 'None', 'None', 'None', 'None', 'None', 'None', 'None', 'None', 'None', 'None', 'None', 'None', 'None', 'None'], ['MX000017004', '2010', '12', 'PRCP', '0', '0', '0', 'None', 'None', '0', '0', '0', '0', '0', '0', 'None', 'None', '0', '0', '0', '0', 'None', '0', 'None', '0', 'None', '0', '0', 'None', 'None', 'None', '0', '0', '0', '0']]\n"
     ]
    }
   ],
   "source": [
    "# Stworzenie listy column\n",
    "col = [\"id\",\"rok\",\"miesiac\",\"nazwa_zmiennych\"]\n",
    "for i in range(1,32):\n",
    "    col.append(\"dzien_{}\".format(i))\n",
    "wier = []\n",
    "# stworzenie listy list kolumn\n",
    "for i in l_5_m:\n",
    "    # odczytywanie takich wartości jak id, rok, miesiąc, nazwa_zmiennej i który dzień\n",
    "    len_stacja_pog = len(l_5_m[0][0:11])\n",
    "    id = l_5_m[0][0:11]\n",
    "    rok = i[11:15]\n",
    "    miesiac = i[15:17]\n",
    "    nazwa_zmiennych = i[17:21]\n",
    "    days_1 = i[21:].split()\n",
    "    el_wier = []\n",
    "    for j in days_1:\n",
    "        # ignorowanie 'S'\n",
    "        if j =='S':\n",
    "            continue\n",
    "        # zamiana '-9999' i 'S-9999' na 'None'\n",
    "        elif j == '-9999' or j == 'S-9999':\n",
    "            j = 'None'\n",
    "            el_wier.append(j)\n",
    "        else:\n",
    "            el_wier.append(j)\n",
    "    # połączenie wcześniej odczytanych wartości w jedną listę\n",
    "    wier.append([id,rok,miesiac,nazwa_zmiennych]+el_wier)\n",
    "print(wier)"
   ],
   "metadata": {
    "collapsed": false,
    "pycharm": {
     "name": "#%%\n"
    }
   }
  },
  {
   "cell_type": "markdown",
   "source": [
    "Utworzenie pierwszego DataFrama"
   ],
   "metadata": {
    "collapsed": false,
    "pycharm": {
     "name": "#%% md\n"
    }
   }
  },
  {
   "cell_type": "code",
   "execution_count": 106,
   "outputs": [
    {
     "data": {
      "text/plain": "             id   rok miesiac nazwa_zmiennych dzien_1 dzien_2 dzien_3 dzien_4  \\\n0   MX000017004  2010      08            TMAX    None    None    None    None   \n1   MX000017004  2010      08            TMIN    None    None    None    None   \n2   MX000017004  2010      08            PRCP    None    None    None    None   \n3   MX000017004  2010      09            PRCP     185      56      13     175   \n4   MX000017004  2010      10            TMAX    None    None    None    None   \n5   MX000017004  2010      10            TMIN    None    None    None    None   \n6   MX000017004  2010      10            PRCP       0       0    None       0   \n7   MX000017004  2010      11            TMAX    None     313    None     272   \n8   MX000017004  2010      11            TMIN    None     163    None     120   \n9   MX000017004  2010      11            PRCP       0       0    None       0   \n10  MX000017004  2010      12            TMAX     299    None    None    None   \n11  MX000017004  2010      12            TMIN     138    None    None    None   \n12  MX000017004  2010      12            PRCP       0       0       0    None   \n\n   dzien_5 dzien_6  ... dzien_22 dzien_23 dzien_24 dzien_25 dzien_26 dzien_27  \\\n0      296    None  ...     None      264     None      297     None     None   \n1      158    None  ...     None      150     None      156     None     None   \n2       38       5  ...      145        0        0        0      432     None   \n3        0     277  ...        0       15      147       18        0        0   \n4      270    None  ...     None     None     None     None     None     None   \n5      140    None  ...     None     None     None     None     None     None   \n6        0       0  ...        0        0     None     None        0        0   \n7      263    None  ...     None     None     None     None      281      277   \n8       79    None  ...     None     None     None     None      121      142   \n9        0       0  ...        0        0        0        0        0        0   \n10    None     278  ...     None     None     None     None     None     None   \n11    None     105  ...     None     None     None     None     None     None   \n12    None       0  ...     None        0        0     None     None     None   \n\n   dzien_28 dzien_29 dzien_30 dzien_31  \n0      None      280     None      254  \n1      None      153     None      154  \n2        64      188        0        0  \n3         0        0        0     None  \n4       312     None     None     None  \n5       150     None     None     None  \n6         0        0        0        0  \n7      None     None     None     None  \n8      None     None     None     None  \n9      None     None        0     None  \n10     None     None     None     None  \n11     None     None     None     None  \n12        0        0        0        0  \n\n[13 rows x 35 columns]",
      "text/html": "<div>\n<style scoped>\n    .dataframe tbody tr th:only-of-type {\n        vertical-align: middle;\n    }\n\n    .dataframe tbody tr th {\n        vertical-align: top;\n    }\n\n    .dataframe thead th {\n        text-align: right;\n    }\n</style>\n<table border=\"1\" class=\"dataframe\">\n  <thead>\n    <tr style=\"text-align: right;\">\n      <th></th>\n      <th>id</th>\n      <th>rok</th>\n      <th>miesiac</th>\n      <th>nazwa_zmiennych</th>\n      <th>dzien_1</th>\n      <th>dzien_2</th>\n      <th>dzien_3</th>\n      <th>dzien_4</th>\n      <th>dzien_5</th>\n      <th>dzien_6</th>\n      <th>...</th>\n      <th>dzien_22</th>\n      <th>dzien_23</th>\n      <th>dzien_24</th>\n      <th>dzien_25</th>\n      <th>dzien_26</th>\n      <th>dzien_27</th>\n      <th>dzien_28</th>\n      <th>dzien_29</th>\n      <th>dzien_30</th>\n      <th>dzien_31</th>\n    </tr>\n  </thead>\n  <tbody>\n    <tr>\n      <th>0</th>\n      <td>MX000017004</td>\n      <td>2010</td>\n      <td>08</td>\n      <td>TMAX</td>\n      <td>None</td>\n      <td>None</td>\n      <td>None</td>\n      <td>None</td>\n      <td>296</td>\n      <td>None</td>\n      <td>...</td>\n      <td>None</td>\n      <td>264</td>\n      <td>None</td>\n      <td>297</td>\n      <td>None</td>\n      <td>None</td>\n      <td>None</td>\n      <td>280</td>\n      <td>None</td>\n      <td>254</td>\n    </tr>\n    <tr>\n      <th>1</th>\n      <td>MX000017004</td>\n      <td>2010</td>\n      <td>08</td>\n      <td>TMIN</td>\n      <td>None</td>\n      <td>None</td>\n      <td>None</td>\n      <td>None</td>\n      <td>158</td>\n      <td>None</td>\n      <td>...</td>\n      <td>None</td>\n      <td>150</td>\n      <td>None</td>\n      <td>156</td>\n      <td>None</td>\n      <td>None</td>\n      <td>None</td>\n      <td>153</td>\n      <td>None</td>\n      <td>154</td>\n    </tr>\n    <tr>\n      <th>2</th>\n      <td>MX000017004</td>\n      <td>2010</td>\n      <td>08</td>\n      <td>PRCP</td>\n      <td>None</td>\n      <td>None</td>\n      <td>None</td>\n      <td>None</td>\n      <td>38</td>\n      <td>5</td>\n      <td>...</td>\n      <td>145</td>\n      <td>0</td>\n      <td>0</td>\n      <td>0</td>\n      <td>432</td>\n      <td>None</td>\n      <td>64</td>\n      <td>188</td>\n      <td>0</td>\n      <td>0</td>\n    </tr>\n    <tr>\n      <th>3</th>\n      <td>MX000017004</td>\n      <td>2010</td>\n      <td>09</td>\n      <td>PRCP</td>\n      <td>185</td>\n      <td>56</td>\n      <td>13</td>\n      <td>175</td>\n      <td>0</td>\n      <td>277</td>\n      <td>...</td>\n      <td>0</td>\n      <td>15</td>\n      <td>147</td>\n      <td>18</td>\n      <td>0</td>\n      <td>0</td>\n      <td>0</td>\n      <td>0</td>\n      <td>0</td>\n      <td>None</td>\n    </tr>\n    <tr>\n      <th>4</th>\n      <td>MX000017004</td>\n      <td>2010</td>\n      <td>10</td>\n      <td>TMAX</td>\n      <td>None</td>\n      <td>None</td>\n      <td>None</td>\n      <td>None</td>\n      <td>270</td>\n      <td>None</td>\n      <td>...</td>\n      <td>None</td>\n      <td>None</td>\n      <td>None</td>\n      <td>None</td>\n      <td>None</td>\n      <td>None</td>\n      <td>312</td>\n      <td>None</td>\n      <td>None</td>\n      <td>None</td>\n    </tr>\n    <tr>\n      <th>5</th>\n      <td>MX000017004</td>\n      <td>2010</td>\n      <td>10</td>\n      <td>TMIN</td>\n      <td>None</td>\n      <td>None</td>\n      <td>None</td>\n      <td>None</td>\n      <td>140</td>\n      <td>None</td>\n      <td>...</td>\n      <td>None</td>\n      <td>None</td>\n      <td>None</td>\n      <td>None</td>\n      <td>None</td>\n      <td>None</td>\n      <td>150</td>\n      <td>None</td>\n      <td>None</td>\n      <td>None</td>\n    </tr>\n    <tr>\n      <th>6</th>\n      <td>MX000017004</td>\n      <td>2010</td>\n      <td>10</td>\n      <td>PRCP</td>\n      <td>0</td>\n      <td>0</td>\n      <td>None</td>\n      <td>0</td>\n      <td>0</td>\n      <td>0</td>\n      <td>...</td>\n      <td>0</td>\n      <td>0</td>\n      <td>None</td>\n      <td>None</td>\n      <td>0</td>\n      <td>0</td>\n      <td>0</td>\n      <td>0</td>\n      <td>0</td>\n      <td>0</td>\n    </tr>\n    <tr>\n      <th>7</th>\n      <td>MX000017004</td>\n      <td>2010</td>\n      <td>11</td>\n      <td>TMAX</td>\n      <td>None</td>\n      <td>313</td>\n      <td>None</td>\n      <td>272</td>\n      <td>263</td>\n      <td>None</td>\n      <td>...</td>\n      <td>None</td>\n      <td>None</td>\n      <td>None</td>\n      <td>None</td>\n      <td>281</td>\n      <td>277</td>\n      <td>None</td>\n      <td>None</td>\n      <td>None</td>\n      <td>None</td>\n    </tr>\n    <tr>\n      <th>8</th>\n      <td>MX000017004</td>\n      <td>2010</td>\n      <td>11</td>\n      <td>TMIN</td>\n      <td>None</td>\n      <td>163</td>\n      <td>None</td>\n      <td>120</td>\n      <td>79</td>\n      <td>None</td>\n      <td>...</td>\n      <td>None</td>\n      <td>None</td>\n      <td>None</td>\n      <td>None</td>\n      <td>121</td>\n      <td>142</td>\n      <td>None</td>\n      <td>None</td>\n      <td>None</td>\n      <td>None</td>\n    </tr>\n    <tr>\n      <th>9</th>\n      <td>MX000017004</td>\n      <td>2010</td>\n      <td>11</td>\n      <td>PRCP</td>\n      <td>0</td>\n      <td>0</td>\n      <td>None</td>\n      <td>0</td>\n      <td>0</td>\n      <td>0</td>\n      <td>...</td>\n      <td>0</td>\n      <td>0</td>\n      <td>0</td>\n      <td>0</td>\n      <td>0</td>\n      <td>0</td>\n      <td>None</td>\n      <td>None</td>\n      <td>0</td>\n      <td>None</td>\n    </tr>\n    <tr>\n      <th>10</th>\n      <td>MX000017004</td>\n      <td>2010</td>\n      <td>12</td>\n      <td>TMAX</td>\n      <td>299</td>\n      <td>None</td>\n      <td>None</td>\n      <td>None</td>\n      <td>None</td>\n      <td>278</td>\n      <td>...</td>\n      <td>None</td>\n      <td>None</td>\n      <td>None</td>\n      <td>None</td>\n      <td>None</td>\n      <td>None</td>\n      <td>None</td>\n      <td>None</td>\n      <td>None</td>\n      <td>None</td>\n    </tr>\n    <tr>\n      <th>11</th>\n      <td>MX000017004</td>\n      <td>2010</td>\n      <td>12</td>\n      <td>TMIN</td>\n      <td>138</td>\n      <td>None</td>\n      <td>None</td>\n      <td>None</td>\n      <td>None</td>\n      <td>105</td>\n      <td>...</td>\n      <td>None</td>\n      <td>None</td>\n      <td>None</td>\n      <td>None</td>\n      <td>None</td>\n      <td>None</td>\n      <td>None</td>\n      <td>None</td>\n      <td>None</td>\n      <td>None</td>\n    </tr>\n    <tr>\n      <th>12</th>\n      <td>MX000017004</td>\n      <td>2010</td>\n      <td>12</td>\n      <td>PRCP</td>\n      <td>0</td>\n      <td>0</td>\n      <td>0</td>\n      <td>None</td>\n      <td>None</td>\n      <td>0</td>\n      <td>...</td>\n      <td>None</td>\n      <td>0</td>\n      <td>0</td>\n      <td>None</td>\n      <td>None</td>\n      <td>None</td>\n      <td>0</td>\n      <td>0</td>\n      <td>0</td>\n      <td>0</td>\n    </tr>\n  </tbody>\n</table>\n<p>13 rows × 35 columns</p>\n</div>"
     },
     "execution_count": 106,
     "metadata": {},
     "output_type": "execute_result"
    }
   ],
   "source": [
    "data_1 = pd.DataFrame(wier,columns=col)\n",
    "data_1"
   ],
   "metadata": {
    "collapsed": false,
    "pycharm": {
     "name": "#%%\n"
    }
   }
  },
  {
   "cell_type": "markdown",
   "source": [
    "Zapisanie dataframa jako txt w folderze analysis_data"
   ],
   "metadata": {
    "collapsed": false,
    "pycharm": {
     "name": "#%% md\n"
    }
   }
  },
  {
   "cell_type": "code",
   "execution_count": 107,
   "outputs": [],
   "source": [
    "with open(\"C:\\studia\\sem_5\\AiBD\\lab_5\\Lab2/analysis_data/filtred_data_1.txt\", \"w\") as f:\n",
    "    f.write(data_1.to_csv(index=True))"
   ],
   "metadata": {
    "collapsed": false,
    "pycharm": {
     "name": "#%%\n"
    }
   }
  },
  {
   "cell_type": "markdown",
   "source": [
    "Usunięcie kolumn, w których pojawiły się niepoprawne wartości."
   ],
   "metadata": {
    "collapsed": false,
    "pycharm": {
     "name": "#%% md\n"
    }
   }
  },
  {
   "cell_type": "code",
   "execution_count": 108,
   "outputs": [
    {
     "data": {
      "text/plain": "              id   rok miesiac nazwa_zmiennych  variable value\n3    MX000017004  2010      09            PRCP   dzien_1   185\n6    MX000017004  2010      10            PRCP   dzien_1     0\n9    MX000017004  2010      11            PRCP   dzien_1     0\n10   MX000017004  2010      12            TMAX   dzien_1   299\n11   MX000017004  2010      12            TMIN   dzien_1   138\n..           ...   ...     ...             ...       ...   ...\n390  MX000017004  2010      08            TMAX  dzien_31   254\n391  MX000017004  2010      08            TMIN  dzien_31   154\n392  MX000017004  2010      08            PRCP  dzien_31     0\n396  MX000017004  2010      10            PRCP  dzien_31     0\n402  MX000017004  2010      12            PRCP  dzien_31     0\n\n[159 rows x 6 columns]",
      "text/html": "<div>\n<style scoped>\n    .dataframe tbody tr th:only-of-type {\n        vertical-align: middle;\n    }\n\n    .dataframe tbody tr th {\n        vertical-align: top;\n    }\n\n    .dataframe thead th {\n        text-align: right;\n    }\n</style>\n<table border=\"1\" class=\"dataframe\">\n  <thead>\n    <tr style=\"text-align: right;\">\n      <th></th>\n      <th>id</th>\n      <th>rok</th>\n      <th>miesiac</th>\n      <th>nazwa_zmiennych</th>\n      <th>variable</th>\n      <th>value</th>\n    </tr>\n  </thead>\n  <tbody>\n    <tr>\n      <th>3</th>\n      <td>MX000017004</td>\n      <td>2010</td>\n      <td>09</td>\n      <td>PRCP</td>\n      <td>dzien_1</td>\n      <td>185</td>\n    </tr>\n    <tr>\n      <th>6</th>\n      <td>MX000017004</td>\n      <td>2010</td>\n      <td>10</td>\n      <td>PRCP</td>\n      <td>dzien_1</td>\n      <td>0</td>\n    </tr>\n    <tr>\n      <th>9</th>\n      <td>MX000017004</td>\n      <td>2010</td>\n      <td>11</td>\n      <td>PRCP</td>\n      <td>dzien_1</td>\n      <td>0</td>\n    </tr>\n    <tr>\n      <th>10</th>\n      <td>MX000017004</td>\n      <td>2010</td>\n      <td>12</td>\n      <td>TMAX</td>\n      <td>dzien_1</td>\n      <td>299</td>\n    </tr>\n    <tr>\n      <th>11</th>\n      <td>MX000017004</td>\n      <td>2010</td>\n      <td>12</td>\n      <td>TMIN</td>\n      <td>dzien_1</td>\n      <td>138</td>\n    </tr>\n    <tr>\n      <th>...</th>\n      <td>...</td>\n      <td>...</td>\n      <td>...</td>\n      <td>...</td>\n      <td>...</td>\n      <td>...</td>\n    </tr>\n    <tr>\n      <th>390</th>\n      <td>MX000017004</td>\n      <td>2010</td>\n      <td>08</td>\n      <td>TMAX</td>\n      <td>dzien_31</td>\n      <td>254</td>\n    </tr>\n    <tr>\n      <th>391</th>\n      <td>MX000017004</td>\n      <td>2010</td>\n      <td>08</td>\n      <td>TMIN</td>\n      <td>dzien_31</td>\n      <td>154</td>\n    </tr>\n    <tr>\n      <th>392</th>\n      <td>MX000017004</td>\n      <td>2010</td>\n      <td>08</td>\n      <td>PRCP</td>\n      <td>dzien_31</td>\n      <td>0</td>\n    </tr>\n    <tr>\n      <th>396</th>\n      <td>MX000017004</td>\n      <td>2010</td>\n      <td>10</td>\n      <td>PRCP</td>\n      <td>dzien_31</td>\n      <td>0</td>\n    </tr>\n    <tr>\n      <th>402</th>\n      <td>MX000017004</td>\n      <td>2010</td>\n      <td>12</td>\n      <td>PRCP</td>\n      <td>dzien_31</td>\n      <td>0</td>\n    </tr>\n  </tbody>\n</table>\n<p>159 rows × 6 columns</p>\n</div>"
     },
     "execution_count": 108,
     "metadata": {},
     "output_type": "execute_result"
    }
   ],
   "source": [
    "data_2 = pd.melt(data_1, ['id', 'rok', 'miesiac', 'nazwa_zmiennych'])\n",
    "# warunek że wartość 'value' nie może być \"None\"\n",
    "data_2 = data_2[data_2.value != 'None']\n",
    "data_2"
   ],
   "metadata": {
    "collapsed": false,
    "pycharm": {
     "name": "#%%\n"
    }
   }
  },
  {
   "cell_type": "markdown",
   "source": [
    "Połączenie 3 kolumn w jedną. Pozwoli to zwiększyć przejrzystość bazy danych."
   ],
   "metadata": {
    "collapsed": false,
    "pycharm": {
     "name": "#%% md\n"
    }
   }
  },
  {
   "cell_type": "code",
   "execution_count": 109,
   "outputs": [
    {
     "data": {
      "text/plain": "              id        data numer value\n3    MX000017004   09-1-2010  PRCP   185\n6    MX000017004   10-1-2010  PRCP     0\n9    MX000017004   11-1-2010  PRCP     0\n10   MX000017004   12-1-2010  TMAX   299\n11   MX000017004   12-1-2010  TMIN   138\n..           ...         ...   ...   ...\n390  MX000017004  08-31-2010  TMAX   254\n391  MX000017004  08-31-2010  TMIN   154\n392  MX000017004  08-31-2010  PRCP     0\n396  MX000017004  10-31-2010  PRCP     0\n402  MX000017004  12-31-2010  PRCP     0\n\n[159 rows x 4 columns]",
      "text/html": "<div>\n<style scoped>\n    .dataframe tbody tr th:only-of-type {\n        vertical-align: middle;\n    }\n\n    .dataframe tbody tr th {\n        vertical-align: top;\n    }\n\n    .dataframe thead th {\n        text-align: right;\n    }\n</style>\n<table border=\"1\" class=\"dataframe\">\n  <thead>\n    <tr style=\"text-align: right;\">\n      <th></th>\n      <th>id</th>\n      <th>data</th>\n      <th>numer</th>\n      <th>value</th>\n    </tr>\n  </thead>\n  <tbody>\n    <tr>\n      <th>3</th>\n      <td>MX000017004</td>\n      <td>09-1-2010</td>\n      <td>PRCP</td>\n      <td>185</td>\n    </tr>\n    <tr>\n      <th>6</th>\n      <td>MX000017004</td>\n      <td>10-1-2010</td>\n      <td>PRCP</td>\n      <td>0</td>\n    </tr>\n    <tr>\n      <th>9</th>\n      <td>MX000017004</td>\n      <td>11-1-2010</td>\n      <td>PRCP</td>\n      <td>0</td>\n    </tr>\n    <tr>\n      <th>10</th>\n      <td>MX000017004</td>\n      <td>12-1-2010</td>\n      <td>TMAX</td>\n      <td>299</td>\n    </tr>\n    <tr>\n      <th>11</th>\n      <td>MX000017004</td>\n      <td>12-1-2010</td>\n      <td>TMIN</td>\n      <td>138</td>\n    </tr>\n    <tr>\n      <th>...</th>\n      <td>...</td>\n      <td>...</td>\n      <td>...</td>\n      <td>...</td>\n    </tr>\n    <tr>\n      <th>390</th>\n      <td>MX000017004</td>\n      <td>08-31-2010</td>\n      <td>TMAX</td>\n      <td>254</td>\n    </tr>\n    <tr>\n      <th>391</th>\n      <td>MX000017004</td>\n      <td>08-31-2010</td>\n      <td>TMIN</td>\n      <td>154</td>\n    </tr>\n    <tr>\n      <th>392</th>\n      <td>MX000017004</td>\n      <td>08-31-2010</td>\n      <td>PRCP</td>\n      <td>0</td>\n    </tr>\n    <tr>\n      <th>396</th>\n      <td>MX000017004</td>\n      <td>10-31-2010</td>\n      <td>PRCP</td>\n      <td>0</td>\n    </tr>\n    <tr>\n      <th>402</th>\n      <td>MX000017004</td>\n      <td>12-31-2010</td>\n      <td>PRCP</td>\n      <td>0</td>\n    </tr>\n  </tbody>\n</table>\n<p>159 rows × 4 columns</p>\n</div>"
     },
     "execution_count": 109,
     "metadata": {},
     "output_type": "execute_result"
    }
   ],
   "source": [
    "# usunięcie części 'dzien_' z variable\n",
    "data_2 = data_2.replace('dzien_',\"\",regex=True)\n",
    "# połączenie miesiac, variable i rok w jedną kolumnę 'data'\n",
    "data_2['data'] = data_2['miesiac'].astype(str) +\"-\"+ data_2['variable'] +\"-\"+ data_2['rok']\n",
    "# usunięcie kolumn 'rook', 'miesiąc' i 'variable'\n",
    "data_2.__delitem__('rok')\n",
    "data_2.__delitem__('miesiac')\n",
    "data_2.__delitem__('variable')\n",
    "# zmiana kolejności kolumn\n",
    "data_2 = data_2[['id','data','nazwa_zmiennych','value']]\n",
    "# zmiana nazwy kolumny 'nazwa_zmiennych' na 'numer'\n",
    "data_2.rename(columns={'nazwa_zmiennych':'numer'},inplace=True)\n",
    "data_2"
   ],
   "metadata": {
    "collapsed": false,
    "pycharm": {
     "name": "#%%\n"
    }
   }
  },
  {
   "cell_type": "markdown",
   "source": [
    "Stworzenie pivot_table, aby pokazać wartości PRCP, TMAX i TMIN dla poszczególch dni."
   ],
   "metadata": {
    "collapsed": false,
    "pycharm": {
     "name": "#%% md\n"
    }
   }
  },
  {
   "cell_type": "code",
   "execution_count": 117,
   "outputs": [
    {
     "data": {
      "text/plain": "numer           id        data   PRCP   TMAX   TMIN\n0      MX000017004  08-13-2010  168.0  298.0  165.0\n1      MX000017004  08-23-2010    0.0  264.0  150.0\n2      MX000017004  08-25-2010    0.0  297.0  156.0\n3      MX000017004  08-29-2010  188.0  280.0  153.0\n4      MX000017004  08-31-2010    0.0  254.0  154.0",
      "text/html": "<div>\n<style scoped>\n    .dataframe tbody tr th:only-of-type {\n        vertical-align: middle;\n    }\n\n    .dataframe tbody tr th {\n        vertical-align: top;\n    }\n\n    .dataframe thead th {\n        text-align: right;\n    }\n</style>\n<table border=\"1\" class=\"dataframe\">\n  <thead>\n    <tr style=\"text-align: right;\">\n      <th>numer</th>\n      <th>id</th>\n      <th>data</th>\n      <th>PRCP</th>\n      <th>TMAX</th>\n      <th>TMIN</th>\n    </tr>\n  </thead>\n  <tbody>\n    <tr>\n      <th>0</th>\n      <td>MX000017004</td>\n      <td>08-13-2010</td>\n      <td>168.0</td>\n      <td>298.0</td>\n      <td>165.0</td>\n    </tr>\n    <tr>\n      <th>1</th>\n      <td>MX000017004</td>\n      <td>08-23-2010</td>\n      <td>0.0</td>\n      <td>264.0</td>\n      <td>150.0</td>\n    </tr>\n    <tr>\n      <th>2</th>\n      <td>MX000017004</td>\n      <td>08-25-2010</td>\n      <td>0.0</td>\n      <td>297.0</td>\n      <td>156.0</td>\n    </tr>\n    <tr>\n      <th>3</th>\n      <td>MX000017004</td>\n      <td>08-29-2010</td>\n      <td>188.0</td>\n      <td>280.0</td>\n      <td>153.0</td>\n    </tr>\n    <tr>\n      <th>4</th>\n      <td>MX000017004</td>\n      <td>08-31-2010</td>\n      <td>0.0</td>\n      <td>254.0</td>\n      <td>154.0</td>\n    </tr>\n  </tbody>\n</table>\n</div>"
     },
     "execution_count": 117,
     "metadata": {},
     "output_type": "execute_result"
    }
   ],
   "source": [
    "# utworzenie tablicy pivot, gdzie wartościami są 'value, kolumnami są 'numer' a indeksem jest 'id' i 'data'\n",
    "data_3 = pd.pivot_table(data_2,values= 'value',index=[\"id\",'data'],columns=['numer'])\n",
    "# zresetowanie indeksów\n",
    "data_3.reset_index(drop=False, inplace=True)\n",
    "# usunięcie kolumn z brakiem wartości\n",
    "data_3 = data_3.dropna()\n",
    "# ponowny reset indeksów tym razem z parametrem drop ustawionym na True\n",
    "data_3=data_3.dropna().reset_index(drop=True)\n",
    "# posortowanie danych po dacie\n",
    "data_3=data_3.sort_values('data')\n",
    "data_3.head()"
   ],
   "metadata": {
    "collapsed": false,
    "pycharm": {
     "name": "#%%\n"
    }
   }
  },
  {
   "cell_type": "markdown",
   "source": [
    "Zapisanie końcowych danych do pamięci"
   ],
   "metadata": {
    "collapsed": false,
    "pycharm": {
     "name": "#%% md\n"
    }
   }
  },
  {
   "cell_type": "code",
   "execution_count": 111,
   "outputs": [],
   "source": [
    "with open(\"C:\\studia\\sem_5\\AiBD\\lab_5\\Lab2/analysis_data/filtred_data_2.txt\", \"w\") as f:\n",
    "    f.write(data_3.to_csv(index=True))"
   ],
   "metadata": {
    "collapsed": false,
    "pycharm": {
     "name": "#%%\n"
    }
   }
  },
  {
   "cell_type": "markdown",
   "source": [],
   "metadata": {
    "collapsed": false,
    "pycharm": {
     "name": "#%% md\n"
    }
   }
  }
 ],
 "metadata": {
  "kernelspec": {
   "display_name": "Python 3",
   "language": "python",
   "name": "python3"
  },
  "language_info": {
   "codemirror_mode": {
    "name": "ipython",
    "version": 2
   },
   "file_extension": ".py",
   "mimetype": "text/x-python",
   "name": "python",
   "nbconvert_exporter": "python",
   "pygments_lexer": "ipython2",
   "version": "2.7.6"
  }
 },
 "nbformat": 4,
 "nbformat_minor": 0
}